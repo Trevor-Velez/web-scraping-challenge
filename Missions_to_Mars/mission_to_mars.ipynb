{
 "cells": [
  {
   "cell_type": "code",
   "execution_count": 97,
   "id": "6e7845e9",
   "metadata": {},
   "outputs": [],
   "source": [
    "from splinter import Browser\n",
    "from bs4 import BeautifulSoup as bs\n",
    "import time\n",
    "from webdriver_manager.chrome import ChromeDriverManager\n",
    "import pandas as pd"
   ]
  },
  {
   "cell_type": "code",
   "execution_count": 98,
   "id": "7ef3ff16",
   "metadata": {},
   "outputs": [],
   "source": [
    "def scrape_info():\n",
    "\n",
    "    executable_path = {'executable_path': ChromeDriverManager().install()}\n",
    "    browser = Browser('chrome', **executable_path, headless=False)\n",
    "\n",
    "\n",
    "    url = \"https://redplanetscience.com/\"\n",
    "    browser.visit(url)\n",
    "\n",
    "    time.sleep(1)\n",
    "    \n",
    "    # Scrape page into Soup\n",
    "    html = browser.html\n",
    "    soup = bs(html, \"html.parser\")\n",
    "    \n",
    "    # Get the latest News Title\n",
    "    news_title = soup.find('div', class_='content_title').text\n",
    "    \n",
    "    # Get the latest news paragraph\n",
    "    news_p = soup.find('div', class_='article_teaser_body').text\n",
    "    \n",
    "    data = {\n",
    "        \"news_title\": news_title,\n",
    "        \"news_p\": news_p\n",
    "    }\n",
    "    \n",
    "    browser.quit()\n",
    "    \n",
    "    return data"
   ]
  },
  {
   "cell_type": "code",
   "execution_count": 99,
   "id": "0575bcbf",
   "metadata": {},
   "outputs": [],
   "source": [
    "def scrape_info_2():\n",
    "\n",
    "    executable_path = {'executable_path': ChromeDriverManager().install()}\n",
    "    browser = Browser('chrome', **executable_path, headless=False)\n",
    "\n",
    "\n",
    "    url = \"https://spaceimages-mars.com/\"\n",
    "    browser.visit(url)\n",
    "\n",
    "    time.sleep(1)\n",
    "    \n",
    "    # Scrape page into Soup\n",
    "    html = browser.html\n",
    "    soup = bs(html, \"html.parser\")\n",
    "    \n",
    "    # Get the feature image source\n",
    "    featured_image_url = soup.find('img', class_='headerimage fade-in')['src']\n",
    "    complete_url = url + featured_image_url\n",
    "    \n",
    "    browser.quit()\n",
    "    \n",
    "    return complete_url"
   ]
  },
  {
   "cell_type": "code",
   "execution_count": 100,
   "id": "e0f11d77",
   "metadata": {},
   "outputs": [],
   "source": [
    "def scrape_table():\n",
    "    url = 'https://galaxyfacts-mars.com/'\n",
    "    tables = pd.read_html(url)\n",
    "    new_table = tables[0]\n",
    "    new_table.columns=['Mars - Earth Comparison','Mars', 'Earth']\n",
    "    new_table.set_index('Mars - Earth Comparison', inplace=True)\n",
    "    df = new_table.iloc[1: , :]\n",
    "    html_table = df.to_html()\n",
    "    \n",
    "    html_table = html_table.replace('\\n', ' ')\n",
    "    \n",
    "    return html_table"
   ]
  },
  {
   "cell_type": "code",
   "execution_count": 101,
   "id": "872b9b44",
   "metadata": {},
   "outputs": [],
   "source": [
    "def scrape_info_3():\n",
    "\n",
    "    executable_path = {'executable_path': ChromeDriverManager().install()}\n",
    "    browser = Browser('chrome', **executable_path, headless=False)\n",
    "\n",
    "\n",
    "    url = \"https://marshemispheres.com/\"\n",
    "    browser.visit(url)\n",
    "\n",
    "    time.sleep(1)\n",
    "    \n",
    "\n",
    "    xpath = '//*[@id=\"product-section\"]/div[2]/div[1]/div/a/h3'\n",
    "    xpath2 = '//*[@id=\"product-section\"]/div[2]/div[2]/div/a/h3'\n",
    "    xpath3 = '//*[@id=\"product-section\"]/div[2]/div[3]/div/a/h3'\n",
    "    xpath4 = '//*[@id=\"product-section\"]/div[2]/div[4]/div/a/h3'\n",
    "    info_dict = []\n",
    "    xpath_list = [xpath, xpath2, xpath3, xpath4]\n",
    "    \n",
    "    for x in xpath_list:\n",
    "        results = browser.find_by_xpath(x)\n",
    "        click = results[0]\n",
    "        click.click()\n",
    "\n",
    "        html = browser.html\n",
    "        soup = bs(html, \"html.parser\")\n",
    "\n",
    "        hemi_title = soup.find('h2', class_='title').text\n",
    "        full_image = soup.find('img', class_='wide-image')['src']\n",
    "        full_image_url = url + full_image\n",
    "        \n",
    "        data = {\n",
    "            \"title\": hemi_title,\n",
    "            \"img_url\": full_image_url\n",
    "        }\n",
    "        info_dict.append(data)\n",
    "        browser.back()\n",
    "\n",
    "    \n",
    "    browser.quit()\n",
    "    \n",
    "    return info_dict"
   ]
  },
  {
   "cell_type": "code",
   "execution_count": 104,
   "id": "30b4bcf4",
   "metadata": {},
   "outputs": [],
   "source": [
    "def complete_scrape():\n",
    "    \n",
    "    first_scrape = scrape_info()\n",
    "    second_scrape = scrape_info_2()\n",
    "    third_scrape = scrape_table()\n",
    "    fourth_scrape = scrape_info_3()\n",
    "    \n",
    "    result = {\n",
    "        'latest_news': first_scrape,\n",
    "        'featured_img': second_scrape,\n",
    "        'table_html': third_scrape,\n",
    "        'hemi_data': fourth_scrape\n",
    "    }\n",
    "    \n",
    "    return result\n",
    "    "
   ]
  },
  {
   "cell_type": "code",
   "execution_count": 105,
   "id": "7687c306",
   "metadata": {},
   "outputs": [
    {
     "name": "stderr",
     "output_type": "stream",
     "text": [
      "\n",
      "\n",
      "====== WebDriver manager ======\n",
      "Current google-chrome version is 92.0.4515\n",
      "Get LATEST driver version for 92.0.4515\n",
      "Driver [C:\\Users\\Trevor\\.wdm\\drivers\\chromedriver\\win32\\92.0.4515.107\\chromedriver.exe] found in cache\n",
      "\n",
      "\n",
      "====== WebDriver manager ======\n",
      "Current google-chrome version is 92.0.4515\n",
      "Get LATEST driver version for 92.0.4515\n",
      "Driver [C:\\Users\\Trevor\\.wdm\\drivers\\chromedriver\\win32\\92.0.4515.107\\chromedriver.exe] found in cache\n",
      "\n",
      "\n",
      "====== WebDriver manager ======\n",
      "Current google-chrome version is 92.0.4515\n",
      "Get LATEST driver version for 92.0.4515\n",
      "Driver [C:\\Users\\Trevor\\.wdm\\drivers\\chromedriver\\win32\\92.0.4515.107\\chromedriver.exe] found in cache\n"
     ]
    },
    {
     "data": {
      "text/plain": [
       "{'latest_news': {'news_title': \"Curiosity Mars Rover's Summer Road Trip Has Begun\",\n",
       "  'news_p': 'After more than a year in the \"clay-bearing unit,\" Curiosity is making a mile-long journey around some deep sand so that it can explore higher up Mount Sharp.'},\n",
       " 'featured_img': 'https://spaceimages-mars.com/image/featured/mars2.jpg',\n",
       " 'table_html': '<table border=\"1\" class=\"dataframe\">   <thead>     <tr style=\"text-align: right;\">       <th></th>       <th>Mars</th>       <th>Earth</th>     </tr>     <tr>       <th>Mars - Earth Comparison</th>       <th></th>       <th></th>     </tr>   </thead>   <tbody>     <tr>       <th>Diameter:</th>       <td>6,779 km</td>       <td>12,742 km</td>     </tr>     <tr>       <th>Mass:</th>       <td>6.39 × 10^23 kg</td>       <td>5.97 × 10^24 kg</td>     </tr>     <tr>       <th>Moons:</th>       <td>2</td>       <td>1</td>     </tr>     <tr>       <th>Distance from Sun:</th>       <td>227,943,824 km</td>       <td>149,598,262 km</td>     </tr>     <tr>       <th>Length of Year:</th>       <td>687 Earth days</td>       <td>365.24 days</td>     </tr>     <tr>       <th>Temperature:</th>       <td>-87 to -5 °C</td>       <td>-88 to 58°C</td>     </tr>   </tbody> </table>',\n",
       " 'hemi_data': [{'title': 'Cerberus Hemisphere Enhanced',\n",
       "   'img_url': 'https://marshemispheres.com/images/f5e372a36edfa389625da6d0cc25d905_cerberus_enhanced.tif_full.jpg'},\n",
       "  {'title': 'Schiaparelli Hemisphere Enhanced',\n",
       "   'img_url': 'https://marshemispheres.com/images/3778f7b43bbbc89d6e3cfabb3613ba93_schiaparelli_enhanced.tif_full.jpg'},\n",
       "  {'title': 'Syrtis Major Hemisphere Enhanced',\n",
       "   'img_url': 'https://marshemispheres.com/images/555e6403a6ddd7ba16ddb0e471cadcf7_syrtis_major_enhanced.tif_full.jpg'},\n",
       "  {'title': 'Valles Marineris Hemisphere Enhanced',\n",
       "   'img_url': 'https://marshemispheres.com/images/b3c7c6c9138f57b4756be9b9c43e3a48_valles_marineris_enhanced.tif_full.jpg'}]}"
      ]
     },
     "execution_count": 105,
     "metadata": {},
     "output_type": "execute_result"
    }
   ],
   "source": [
    "complete_scrape()"
   ]
  },
  {
   "cell_type": "code",
   "execution_count": null,
   "id": "8c430eec",
   "metadata": {},
   "outputs": [],
   "source": []
  }
 ],
 "metadata": {
  "kernelspec": {
   "display_name": "Python 3",
   "language": "python",
   "name": "python3"
  },
  "language_info": {
   "codemirror_mode": {
    "name": "ipython",
    "version": 3
   },
   "file_extension": ".py",
   "mimetype": "text/x-python",
   "name": "python",
   "nbconvert_exporter": "python",
   "pygments_lexer": "ipython3",
   "version": "3.8.8"
  }
 },
 "nbformat": 4,
 "nbformat_minor": 5
}
